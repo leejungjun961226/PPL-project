{
 "cells": [
  {
   "cell_type": "markdown",
   "metadata": {},
   "source": [
    "#  DB 테이블 생성"
   ]
  },
  {
   "cell_type": "code",
   "execution_count": 18,
   "metadata": {},
   "outputs": [],
   "source": [
    "import pymysql"
   ]
  },
  {
   "cell_type": "code",
   "execution_count": 19,
   "metadata": {},
   "outputs": [],
   "source": [
    "conn = pymysql.connect(host = 'teamproject.cq3n19tmwx8i.us-east-2.rds.amazonaws.com',user='bigdb',password='bigdb1234', \\\n",
    "                      db='ppl',charset='utf8')"
   ]
  },
  {
   "cell_type": "code",
   "execution_count": 20,
   "metadata": {},
   "outputs": [],
   "source": [
    "cur = conn.cursor(pymysql.cursors.DictCursor)"
   ]
  },
  {
   "cell_type": "code",
   "execution_count": 21,
   "metadata": {},
   "outputs": [],
   "source": [
    "# 상품명 하나 테이블 생성\n",
    "# 상품명이 긴게 있어서 varchar를 많이 설정해줌\n",
    "\n",
    "sql = \"CREATE TABLE `brand_category_all` (\\\n",
    "    `brand` varchar(500) NOT NULL,\\\n",
    "    PRIMARY KEY (`brand`)\\\n",
    ") ENGINE=InnoDB DEFAULT CHARSET=utf8;\"\n",
    "cur.execute(sql)\n",
    "conn.commit()"
   ]
  },
  {
   "cell_type": "code",
   "execution_count": 22,
   "metadata": {},
   "outputs": [],
   "source": [
    "cur.close()\n",
    "conn.close()"
   ]
  },
  {
   "cell_type": "markdown",
   "metadata": {},
   "source": [
    "### 테이블 수정 (날짜 집어넣기)"
   ]
  },
  {
   "cell_type": "code",
   "execution_count": 23,
   "metadata": {},
   "outputs": [],
   "source": [
    "import pandas as pd"
   ]
  },
  {
   "cell_type": "code",
   "execution_count": 24,
   "metadata": {},
   "outputs": [],
   "source": [
    "df = pd.read_excel('ppl_all_brand_category.xlsx', encoding='utf8-sig')"
   ]
  },
  {
   "cell_type": "code",
   "execution_count": 25,
   "metadata": {
    "collapsed": true
   },
   "outputs": [
    {
     "data": {
      "text/plain": [
       "['D-30',\n",
       " 'D-29',\n",
       " 'D-28',\n",
       " 'D-27',\n",
       " 'D-26',\n",
       " 'D-25',\n",
       " 'D-24',\n",
       " 'D-23',\n",
       " 'D-22',\n",
       " 'D-21',\n",
       " 'D-20',\n",
       " 'D-19',\n",
       " 'D-18',\n",
       " 'D-17',\n",
       " 'D-16',\n",
       " 'D-15',\n",
       " 'D-14',\n",
       " 'D-13',\n",
       " 'D-12',\n",
       " 'D-11',\n",
       " 'D-10',\n",
       " 'D-9',\n",
       " 'D-8',\n",
       " 'D-7',\n",
       " 'D-6',\n",
       " 'D-5',\n",
       " 'D-4',\n",
       " 'D-3',\n",
       " 'D-2',\n",
       " 'D-1',\n",
       " 'D-day',\n",
       " 'D+1',\n",
       " 'D+2',\n",
       " 'D+3',\n",
       " 'D+4',\n",
       " 'D+5',\n",
       " 'D+6',\n",
       " 'D+7',\n",
       " 'D+8',\n",
       " 'D+9',\n",
       " 'D+10',\n",
       " 'D+11',\n",
       " 'D+12',\n",
       " 'D+13',\n",
       " 'D+14',\n",
       " 'D+15',\n",
       " 'D+16',\n",
       " 'D+17',\n",
       " 'D+18',\n",
       " 'D+19',\n",
       " 'D+20',\n",
       " 'D+21',\n",
       " 'D+22',\n",
       " 'D+23',\n",
       " 'D+24',\n",
       " 'D+25',\n",
       " 'D+26',\n",
       " 'D+27',\n",
       " 'D+28',\n",
       " 'D+29',\n",
       " 'D+30']"
      ]
     },
     "execution_count": 25,
     "metadata": {},
     "output_type": "execute_result"
    }
   ],
   "source": [
    "product = []\n",
    "a = -30\n",
    "for i in range(0,len(df[df.columns[0]])):\n",
    "    b = a+i\n",
    "    if b < 0:\n",
    "        product.append('D'+str(a+i))\n",
    "    elif b == 0:     \n",
    "        product.append('D-day')\n",
    "    else:\n",
    "        product.append('D+'+str(a+i))\n",
    "product"
   ]
  },
  {
   "cell_type": "code",
   "execution_count": 26,
   "metadata": {},
   "outputs": [],
   "source": [
    "conn = pymysql.connect(host = 'teamproject.cq3n19tmwx8i.us-east-2.rds.amazonaws.com',user='bigdb',password='bigdb1234', \\\n",
    "                      db='ppl',charset='utf8')"
   ]
  },
  {
   "cell_type": "code",
   "execution_count": 27,
   "metadata": {},
   "outputs": [],
   "source": [
    "cur = conn.cursor(pymysql.cursors.DictCursor)"
   ]
  },
  {
   "cell_type": "code",
   "execution_count": 28,
   "metadata": {},
   "outputs": [],
   "source": [
    "for i in product:\n",
    "    sql = \"ALTER TABLE `brand_category_all` ADD COLUMN `\"+i+\"` FLOAT NOT NULL DEFAULT 0 \"\n",
    "    cur.execute(sql)\n",
    "    conn.commit()"
   ]
  },
  {
   "cell_type": "code",
   "execution_count": 29,
   "metadata": {},
   "outputs": [],
   "source": [
    "cur.close()\n",
    "conn.close()"
   ]
  },
  {
   "cell_type": "markdown",
   "metadata": {},
   "source": [
    "# 파일 불러오기 & 데이터 수정"
   ]
  },
  {
   "cell_type": "code",
   "execution_count": 30,
   "metadata": {},
   "outputs": [],
   "source": [
    "df = pd.read_excel('ppl_all_brand_category.xlsx', encoding='utf-8-sig')\n",
    "df = df.T"
   ]
  },
  {
   "cell_type": "code",
   "execution_count": 31,
   "metadata": {},
   "outputs": [
    {
     "data": {
      "text/html": [
       "<div>\n",
       "<style scoped>\n",
       "    .dataframe tbody tr th:only-of-type {\n",
       "        vertical-align: middle;\n",
       "    }\n",
       "\n",
       "    .dataframe tbody tr th {\n",
       "        vertical-align: top;\n",
       "    }\n",
       "\n",
       "    .dataframe thead th {\n",
       "        text-align: right;\n",
       "    }\n",
       "</style>\n",
       "<table border=\"1\" class=\"dataframe\">\n",
       "  <thead>\n",
       "    <tr style=\"text-align: right;\">\n",
       "      <th></th>\n",
       "      <th>0</th>\n",
       "      <th>1</th>\n",
       "      <th>2</th>\n",
       "      <th>3</th>\n",
       "      <th>4</th>\n",
       "      <th>5</th>\n",
       "      <th>6</th>\n",
       "      <th>7</th>\n",
       "      <th>8</th>\n",
       "      <th>9</th>\n",
       "      <th>...</th>\n",
       "      <th>51</th>\n",
       "      <th>52</th>\n",
       "      <th>53</th>\n",
       "      <th>54</th>\n",
       "      <th>55</th>\n",
       "      <th>56</th>\n",
       "      <th>57</th>\n",
       "      <th>58</th>\n",
       "      <th>59</th>\n",
       "      <th>60</th>\n",
       "    </tr>\n",
       "  </thead>\n",
       "  <tbody>\n",
       "    <tr>\n",
       "      <th>상품명</th>\n",
       "      <td>D-30</td>\n",
       "      <td>D-29</td>\n",
       "      <td>D-28</td>\n",
       "      <td>D-27</td>\n",
       "      <td>D-26</td>\n",
       "      <td>D-25</td>\n",
       "      <td>D-24</td>\n",
       "      <td>D-23</td>\n",
       "      <td>D-22</td>\n",
       "      <td>D-21</td>\n",
       "      <td>...</td>\n",
       "      <td>D+21</td>\n",
       "      <td>D+22</td>\n",
       "      <td>D+23</td>\n",
       "      <td>D+24</td>\n",
       "      <td>D+25</td>\n",
       "      <td>D+26</td>\n",
       "      <td>D+27</td>\n",
       "      <td>D+28</td>\n",
       "      <td>D+29</td>\n",
       "      <td>D+30</td>\n",
       "    </tr>\n",
       "  </tbody>\n",
       "</table>\n",
       "<p>1 rows × 61 columns</p>\n",
       "</div>"
      ],
      "text/plain": [
       "       0     1     2     3     4     5     6     7     8     9   ...    51  \\\n",
       "상품명  D-30  D-29  D-28  D-27  D-26  D-25  D-24  D-23  D-22  D-21  ...  D+21   \n",
       "\n",
       "       52    53    54    55    56    57    58    59    60  \n",
       "상품명  D+22  D+23  D+24  D+25  D+26  D+27  D+28  D+29  D+30  \n",
       "\n",
       "[1 rows x 61 columns]"
      ]
     },
     "execution_count": 31,
     "metadata": {},
     "output_type": "execute_result"
    }
   ],
   "source": [
    "df1 = pd.DataFrame(data=product, columns=['상품명'])\n",
    "df1 = df1.T\n",
    "df1"
   ]
  },
  {
   "cell_type": "code",
   "execution_count": 32,
   "metadata": {
    "scrolled": true
   },
   "outputs": [],
   "source": [
    "df = pd.concat([df1,df], axis=0)"
   ]
  },
  {
   "cell_type": "code",
   "execution_count": 33,
   "metadata": {
    "scrolled": true
   },
   "outputs": [],
   "source": [
    "df = df.reset_index()"
   ]
  },
  {
   "cell_type": "code",
   "execution_count": 34,
   "metadata": {
    "scrolled": true
   },
   "outputs": [
    {
     "data": {
      "text/html": [
       "<div>\n",
       "<style scoped>\n",
       "    .dataframe tbody tr th:only-of-type {\n",
       "        vertical-align: middle;\n",
       "    }\n",
       "\n",
       "    .dataframe tbody tr th {\n",
       "        vertical-align: top;\n",
       "    }\n",
       "\n",
       "    .dataframe thead th {\n",
       "        text-align: right;\n",
       "    }\n",
       "</style>\n",
       "<table border=\"1\" class=\"dataframe\">\n",
       "  <thead>\n",
       "    <tr style=\"text-align: right;\">\n",
       "      <th></th>\n",
       "      <th>index</th>\n",
       "      <th>0</th>\n",
       "      <th>1</th>\n",
       "      <th>2</th>\n",
       "      <th>3</th>\n",
       "      <th>4</th>\n",
       "      <th>5</th>\n",
       "      <th>6</th>\n",
       "      <th>7</th>\n",
       "      <th>8</th>\n",
       "      <th>...</th>\n",
       "      <th>51</th>\n",
       "      <th>52</th>\n",
       "      <th>53</th>\n",
       "      <th>54</th>\n",
       "      <th>55</th>\n",
       "      <th>56</th>\n",
       "      <th>57</th>\n",
       "      <th>58</th>\n",
       "      <th>59</th>\n",
       "      <th>60</th>\n",
       "    </tr>\n",
       "  </thead>\n",
       "  <tbody>\n",
       "    <tr>\n",
       "      <th>0</th>\n",
       "      <td>상품명</td>\n",
       "      <td>D-30</td>\n",
       "      <td>D-29</td>\n",
       "      <td>D-28</td>\n",
       "      <td>D-27</td>\n",
       "      <td>D-26</td>\n",
       "      <td>D-25</td>\n",
       "      <td>D-24</td>\n",
       "      <td>D-23</td>\n",
       "      <td>D-22</td>\n",
       "      <td>...</td>\n",
       "      <td>D+21</td>\n",
       "      <td>D+22</td>\n",
       "      <td>D+23</td>\n",
       "      <td>D+24</td>\n",
       "      <td>D+25</td>\n",
       "      <td>D+26</td>\n",
       "      <td>D+27</td>\n",
       "      <td>D+28</td>\n",
       "      <td>D+29</td>\n",
       "      <td>D+30</td>\n",
       "    </tr>\n",
       "    <tr>\n",
       "      <th>1</th>\n",
       "      <td>더메디닥터 클렌징</td>\n",
       "      <td>0</td>\n",
       "      <td>0</td>\n",
       "      <td>0</td>\n",
       "      <td>0</td>\n",
       "      <td>0</td>\n",
       "      <td>0</td>\n",
       "      <td>0</td>\n",
       "      <td>0</td>\n",
       "      <td>0</td>\n",
       "      <td>...</td>\n",
       "      <td>0</td>\n",
       "      <td>0</td>\n",
       "      <td>0</td>\n",
       "      <td>0</td>\n",
       "      <td>0</td>\n",
       "      <td>0</td>\n",
       "      <td>0</td>\n",
       "      <td>0</td>\n",
       "      <td>0</td>\n",
       "      <td>0</td>\n",
       "    </tr>\n",
       "    <tr>\n",
       "      <th>2</th>\n",
       "      <td>킵쿨 에센스</td>\n",
       "      <td>0</td>\n",
       "      <td>0</td>\n",
       "      <td>0</td>\n",
       "      <td>0</td>\n",
       "      <td>0</td>\n",
       "      <td>0</td>\n",
       "      <td>0</td>\n",
       "      <td>0</td>\n",
       "      <td>0</td>\n",
       "      <td>...</td>\n",
       "      <td>0</td>\n",
       "      <td>0</td>\n",
       "      <td>0</td>\n",
       "      <td>0</td>\n",
       "      <td>0</td>\n",
       "      <td>0</td>\n",
       "      <td>0</td>\n",
       "      <td>0</td>\n",
       "      <td>0</td>\n",
       "      <td>0</td>\n",
       "    </tr>\n",
       "    <tr>\n",
       "      <th>3</th>\n",
       "      <td>S2ND 크림</td>\n",
       "      <td>0</td>\n",
       "      <td>0</td>\n",
       "      <td>0</td>\n",
       "      <td>0</td>\n",
       "      <td>0</td>\n",
       "      <td>0</td>\n",
       "      <td>0</td>\n",
       "      <td>0</td>\n",
       "      <td>0</td>\n",
       "      <td>...</td>\n",
       "      <td>0</td>\n",
       "      <td>0</td>\n",
       "      <td>0</td>\n",
       "      <td>0</td>\n",
       "      <td>0</td>\n",
       "      <td>0</td>\n",
       "      <td>0</td>\n",
       "      <td>0</td>\n",
       "      <td>0</td>\n",
       "      <td>0</td>\n",
       "    </tr>\n",
       "    <tr>\n",
       "      <th>4</th>\n",
       "      <td>에르쯔틴 쿨링젤</td>\n",
       "      <td>0</td>\n",
       "      <td>0</td>\n",
       "      <td>0</td>\n",
       "      <td>0</td>\n",
       "      <td>0</td>\n",
       "      <td>0</td>\n",
       "      <td>0</td>\n",
       "      <td>0</td>\n",
       "      <td>0</td>\n",
       "      <td>...</td>\n",
       "      <td>0</td>\n",
       "      <td>0</td>\n",
       "      <td>0</td>\n",
       "      <td>0</td>\n",
       "      <td>0</td>\n",
       "      <td>0</td>\n",
       "      <td>0</td>\n",
       "      <td>0</td>\n",
       "      <td>0</td>\n",
       "      <td>0</td>\n",
       "    </tr>\n",
       "  </tbody>\n",
       "</table>\n",
       "<p>5 rows × 62 columns</p>\n",
       "</div>"
      ],
      "text/plain": [
       "       index     0     1     2     3     4     5     6     7     8  ...    51  \\\n",
       "0        상품명  D-30  D-29  D-28  D-27  D-26  D-25  D-24  D-23  D-22  ...  D+21   \n",
       "1  더메디닥터 클렌징     0     0     0     0     0     0     0     0     0  ...     0   \n",
       "2     킵쿨 에센스     0     0     0     0     0     0     0     0     0  ...     0   \n",
       "3    S2ND 크림     0     0     0     0     0     0     0     0     0  ...     0   \n",
       "4   에르쯔틴 쿨링젤     0     0     0     0     0     0     0     0     0  ...     0   \n",
       "\n",
       "     52    53    54    55    56    57    58    59    60  \n",
       "0  D+22  D+23  D+24  D+25  D+26  D+27  D+28  D+29  D+30  \n",
       "1     0     0     0     0     0     0     0     0     0  \n",
       "2     0     0     0     0     0     0     0     0     0  \n",
       "3     0     0     0     0     0     0     0     0     0  \n",
       "4     0     0     0     0     0     0     0     0     0  \n",
       "\n",
       "[5 rows x 62 columns]"
      ]
     },
     "execution_count": 34,
     "metadata": {},
     "output_type": "execute_result"
    }
   ],
   "source": [
    "df.head()"
   ]
  },
  {
   "cell_type": "markdown",
   "metadata": {},
   "source": [
    "# 데이터 프레임을 [(  )] 형태로 변환\n"
   ]
  },
  {
   "cell_type": "code",
   "execution_count": 35,
   "metadata": {},
   "outputs": [],
   "source": [
    "# 행,열 변경\n",
    "df = df.T"
   ]
  },
  {
   "cell_type": "code",
   "execution_count": 36,
   "metadata": {},
   "outputs": [
    {
     "data": {
      "text/html": [
       "<div>\n",
       "<style scoped>\n",
       "    .dataframe tbody tr th:only-of-type {\n",
       "        vertical-align: middle;\n",
       "    }\n",
       "\n",
       "    .dataframe tbody tr th {\n",
       "        vertical-align: top;\n",
       "    }\n",
       "\n",
       "    .dataframe thead th {\n",
       "        text-align: right;\n",
       "    }\n",
       "</style>\n",
       "<table border=\"1\" class=\"dataframe\">\n",
       "  <thead>\n",
       "    <tr style=\"text-align: right;\">\n",
       "      <th></th>\n",
       "      <th>0</th>\n",
       "      <th>1</th>\n",
       "      <th>2</th>\n",
       "      <th>3</th>\n",
       "      <th>4</th>\n",
       "      <th>5</th>\n",
       "      <th>6</th>\n",
       "      <th>7</th>\n",
       "      <th>8</th>\n",
       "      <th>9</th>\n",
       "      <th>...</th>\n",
       "      <th>437</th>\n",
       "      <th>438</th>\n",
       "      <th>439</th>\n",
       "      <th>440</th>\n",
       "      <th>441</th>\n",
       "      <th>442</th>\n",
       "      <th>443</th>\n",
       "      <th>444</th>\n",
       "      <th>445</th>\n",
       "      <th>446</th>\n",
       "    </tr>\n",
       "  </thead>\n",
       "  <tbody>\n",
       "    <tr>\n",
       "      <th>index</th>\n",
       "      <td>상품명</td>\n",
       "      <td>더메디닥터 클렌징</td>\n",
       "      <td>킵쿨 에센스</td>\n",
       "      <td>S2ND 크림</td>\n",
       "      <td>에르쯔틴 쿨링젤</td>\n",
       "      <td>에스미아 쿠션</td>\n",
       "      <td>에르쯔틴 젤</td>\n",
       "      <td>비엠비코 퀸79노블 골드세럼</td>\n",
       "      <td>데일리 아이마스크 장미향</td>\n",
       "      <td>해피홈 트러블키트</td>\n",
       "      <td>...</td>\n",
       "      <td>모모백 - 카멜</td>\n",
       "      <td>Two Color Square</td>\n",
       "      <td>J192MSE027</td>\n",
       "      <td>오버사이즈 베이직 후드티(오렌지)</td>\n",
       "      <td>19SS 스트라이프 더블버튼 수트</td>\n",
       "      <td>데님 반바지</td>\n",
       "      <td>로고프린팅 루즈핏티셔츠</td>\n",
       "      <td>2019 S/S 소매 레터링 더블재킷</td>\n",
       "      <td>기본핏자켓</td>\n",
       "      <td>리잘록 레터링포인트 배색가디건</td>\n",
       "    </tr>\n",
       "    <tr>\n",
       "      <th>0</th>\n",
       "      <td>D-30</td>\n",
       "      <td>0</td>\n",
       "      <td>0</td>\n",
       "      <td>0</td>\n",
       "      <td>0</td>\n",
       "      <td>4.49438</td>\n",
       "      <td>0</td>\n",
       "      <td>0</td>\n",
       "      <td>0</td>\n",
       "      <td>0</td>\n",
       "      <td>...</td>\n",
       "      <td>0</td>\n",
       "      <td>0</td>\n",
       "      <td>0</td>\n",
       "      <td>0</td>\n",
       "      <td>0</td>\n",
       "      <td>24.6154</td>\n",
       "      <td>0</td>\n",
       "      <td>0</td>\n",
       "      <td>0</td>\n",
       "      <td>0</td>\n",
       "    </tr>\n",
       "    <tr>\n",
       "      <th>1</th>\n",
       "      <td>D-29</td>\n",
       "      <td>0</td>\n",
       "      <td>0</td>\n",
       "      <td>0</td>\n",
       "      <td>0</td>\n",
       "      <td>3.37078</td>\n",
       "      <td>0</td>\n",
       "      <td>0</td>\n",
       "      <td>0</td>\n",
       "      <td>0</td>\n",
       "      <td>...</td>\n",
       "      <td>0</td>\n",
       "      <td>0</td>\n",
       "      <td>0</td>\n",
       "      <td>0</td>\n",
       "      <td>0</td>\n",
       "      <td>24.1026</td>\n",
       "      <td>0</td>\n",
       "      <td>0</td>\n",
       "      <td>0</td>\n",
       "      <td>0</td>\n",
       "    </tr>\n",
       "    <tr>\n",
       "      <th>2</th>\n",
       "      <td>D-28</td>\n",
       "      <td>0</td>\n",
       "      <td>0</td>\n",
       "      <td>0</td>\n",
       "      <td>0</td>\n",
       "      <td>0</td>\n",
       "      <td>0</td>\n",
       "      <td>0</td>\n",
       "      <td>0</td>\n",
       "      <td>0</td>\n",
       "      <td>...</td>\n",
       "      <td>0</td>\n",
       "      <td>0</td>\n",
       "      <td>0</td>\n",
       "      <td>0</td>\n",
       "      <td>0</td>\n",
       "      <td>23.0769</td>\n",
       "      <td>0</td>\n",
       "      <td>0</td>\n",
       "      <td>0</td>\n",
       "      <td>0</td>\n",
       "    </tr>\n",
       "    <tr>\n",
       "      <th>3</th>\n",
       "      <td>D-27</td>\n",
       "      <td>0</td>\n",
       "      <td>0</td>\n",
       "      <td>0</td>\n",
       "      <td>0</td>\n",
       "      <td>0</td>\n",
       "      <td>0</td>\n",
       "      <td>0</td>\n",
       "      <td>0</td>\n",
       "      <td>0</td>\n",
       "      <td>...</td>\n",
       "      <td>0</td>\n",
       "      <td>0</td>\n",
       "      <td>0</td>\n",
       "      <td>0</td>\n",
       "      <td>0</td>\n",
       "      <td>16.9231</td>\n",
       "      <td>0</td>\n",
       "      <td>0</td>\n",
       "      <td>0</td>\n",
       "      <td>0</td>\n",
       "    </tr>\n",
       "  </tbody>\n",
       "</table>\n",
       "<p>5 rows × 447 columns</p>\n",
       "</div>"
      ],
      "text/plain": [
       "        0          1       2        3         4        5       6    \\\n",
       "index   상품명  더메디닥터 클렌징  킵쿨 에센스  S2ND 크림  에르쯔틴 쿨링젤  에스미아 쿠션  에르쯔틴 젤   \n",
       "0      D-30          0       0        0         0  4.49438       0   \n",
       "1      D-29          0       0        0         0  3.37078       0   \n",
       "2      D-28          0       0        0         0        0       0   \n",
       "3      D-27          0       0        0         0        0       0   \n",
       "\n",
       "                   7              8          9    ...       437  \\\n",
       "index  비엠비코 퀸79노블 골드세럼  데일리 아이마스크 장미향  해피홈 트러블키트  ...  모모백 - 카멜   \n",
       "0                    0              0          0  ...         0   \n",
       "1                    0              0          0  ...         0   \n",
       "2                    0              0          0  ...         0   \n",
       "3                    0              0          0  ...         0   \n",
       "\n",
       "                    438         439                 440                 441  \\\n",
       "index  Two Color Square  J192MSE027  오버사이즈 베이직 후드티(오렌지)  19SS 스트라이프 더블버튼 수트   \n",
       "0                     0           0                   0                   0   \n",
       "1                     0           0                   0                   0   \n",
       "2                     0           0                   0                   0   \n",
       "3                     0           0                   0                   0   \n",
       "\n",
       "           442           443                   444     445               446  \n",
       "index   데님 반바지  로고프린팅 루즈핏티셔츠  2019 S/S 소매 레터링 더블재킷  기본핏자켓   리잘록 레터링포인트 배색가디건  \n",
       "0      24.6154             0                     0       0                 0  \n",
       "1      24.1026             0                     0       0                 0  \n",
       "2      23.0769             0                     0       0                 0  \n",
       "3      16.9231             0                     0       0                 0  \n",
       "\n",
       "[5 rows x 447 columns]"
      ]
     },
     "execution_count": 36,
     "metadata": {},
     "output_type": "execute_result"
    }
   ],
   "source": [
    "df.head()"
   ]
  },
  {
   "cell_type": "code",
   "execution_count": 37,
   "metadata": {},
   "outputs": [],
   "source": [
    "b = []\n",
    "for i in range(1,len(df.columns)):\n",
    "    b.append(tuple(df[i]))"
   ]
  },
  {
   "cell_type": "markdown",
   "metadata": {},
   "source": [
    "# 데이터 삽입"
   ]
  },
  {
   "cell_type": "code",
   "execution_count": 39,
   "metadata": {},
   "outputs": [],
   "source": [
    "conn = pymysql.connect(host = 'teamproject.cq3n19tmwx8i.us-east-2.rds.amazonaws.com',user='bigdb',password='bigdb1234', \\\n",
    "                      db='ppl',charset='utf8')"
   ]
  },
  {
   "cell_type": "code",
   "execution_count": 40,
   "metadata": {},
   "outputs": [],
   "source": [
    "cur = conn.cursor(pymysql.cursors.DictCursor)"
   ]
  },
  {
   "cell_type": "code",
   "execution_count": 47,
   "metadata": {},
   "outputs": [],
   "source": [
    "# 파이썬에서 String을 씌워서 내보내고 sql에서 String을 받아서 껍질을 벗기고 해석함!!!\n",
    "sql = \"insert into brand_category_all values (\"+(\"%s, \"*61+\"%s\")+\")\"\n",
    "cur.executemany(sql, b)\n",
    "conn.commit()"
   ]
  },
  {
   "cell_type": "code",
   "execution_count": 48,
   "metadata": {},
   "outputs": [],
   "source": [
    "cur.close()\n",
    "conn.close()"
   ]
  },
  {
   "cell_type": "code",
   "execution_count": null,
   "metadata": {},
   "outputs": [],
   "source": []
  }
 ],
 "metadata": {
  "kernelspec": {
   "display_name": "Python 3",
   "language": "python",
   "name": "python3"
  },
  "language_info": {
   "codemirror_mode": {
    "name": "ipython",
    "version": 3
   },
   "file_extension": ".py",
   "mimetype": "text/x-python",
   "name": "python",
   "nbconvert_exporter": "python",
   "pygments_lexer": "ipython3",
   "version": "3.7.6"
  }
 },
 "nbformat": 4,
 "nbformat_minor": 4
}
